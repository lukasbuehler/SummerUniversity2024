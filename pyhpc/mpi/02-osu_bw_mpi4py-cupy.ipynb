{
 "cells": [
  {
   "cell_type": "markdown",
   "id": "86b84834-b048-4832-bd49-f49c29d4fdfb",
   "metadata": {
    "tags": []
   },
   "source": [
    "## OSU G2G Bandwidth Benchmark with MPI4Py\n",
    "In this example we use [IPCMagic](https://github.com/eth-cscs/ipcluster_magic/tree/master) to run a test from the [OSU Bandwidth benchmark](http://mvapich.cse.ohio-state.edu/benchmarks/) with MPI4Py from a Jupyter notebook.\n",
    "Using [this example](https://mpi4py.readthedocs.io/en/stable/tutorial.html#cuda-aware-mpi-python-gpu-arrays), we adapted the [osu_bw.py](https://github.com/mpi4py/mpi4py/blob/d0228f0397403ff73d8f41d90d97b411efda6128/demo/osu_bw.py) script from the MPI4Py repository so it uses an array allocated on the GPU.\n",
    "\n",
    "* From a shell in Piz Daint this can be run using this Slurm job script:\n",
    " \n",
    "```\n",
    "#!/bin/bash -l\n",
    "\n",
    "#SBATCH --job-name=osubw\n",
    "#SBATCH --time=00:05:00\n",
    "#SBATCH --nodes=2\n",
    "#SBATCH --ntasks-per-core=1\n",
    "#SBATCH --ntasks-per-node=1\n",
    "#SBATCH --cpus-per-task=12\n",
    "#SBATCH --partition=normal\n",
    "#SBATCH --constraint=gpu\n",
    "#SBATCH --account=<project>\n",
    "\n",
    "# source python environment with cupy and mpi4py\n",
    "\n",
    "export MPICH_RDMA_ENABLED_CUDA=1\n",
    "\n",
    "srun python osu_bw_cupy.py\n",
    "```"
   ]
  },
  {
   "cell_type": "code",
   "execution_count": 1,
   "id": "b55135ce-b328-4d73-b498-d8369ead8380",
   "metadata": {},
   "outputs": [],
   "source": [
    "import os\n",
    "import ipcmagic"
   ]
  },
  {
   "cell_type": "code",
   "execution_count": 2,
   "id": "64b6492d-1dbd-441d-95fa-7eb1717e0bdb",
   "metadata": {},
   "outputs": [],
   "source": [
    "os.environ['MPICH_RDMA_ENABLED_CUDA'] = '1'  # Enable direct communication between GPUs"
   ]
  },
  {
   "cell_type": "code",
   "execution_count": 3,
   "id": "79928bb7-8091-458f-b438-b66e1af23a8b",
   "metadata": {},
   "outputs": [
    {
     "name": "stdout",
     "output_type": "stream",
     "text": [
      "1.1.0\n"
     ]
    }
   ],
   "source": [
    "%ipcluster --version"
   ]
  },
  {
   "cell_type": "code",
   "execution_count": 4,
   "id": "a7d237d6-f385-49c6-9bad-323ba3c2d7a6",
   "metadata": {},
   "outputs": [
    {
     "name": "stdout",
     "output_type": "stream",
     "text": [
      "100%|██████████| 2/2 [00:06<00:00,  3.18s/engine]\n"
     ]
    }
   ],
   "source": [
    "%ipcluster start -n 2"
   ]
  },
  {
   "cell_type": "code",
   "execution_count": 5,
   "id": "cbaea7a2-4171-438d-8ad9-3a00411fd007",
   "metadata": {},
   "outputs": [],
   "source": [
    "# Disable IPyParallel's progress bar\n",
    "%pxconfig --progress-after -1"
   ]
  },
  {
   "cell_type": "code",
   "execution_count": 6,
   "id": "12b975be-ceed-412d-9117-b3d8b7904549",
   "metadata": {},
   "outputs": [
    {
     "data": {
      "text/plain": [
       "\u001b[0;31mOut[1:1]: \u001b[0m'nid07225'"
      ]
     },
     "metadata": {
      "after": null,
      "completed": null,
      "data": {},
      "engine_id": 1,
      "engine_uuid": "5c1410af-532fcf31cac8502c97097593",
      "error": null,
      "execute_input": "import socket\n\nsocket.gethostname()\n",
      "execute_result": {
       "data": {
        "text/plain": "'nid07225'"
       },
       "execution_count": 1,
       "metadata": {}
      },
      "follow": null,
      "msg_id": null,
      "outputs": [],
      "received": null,
      "started": null,
      "status": null,
      "stderr": "",
      "stdout": "",
      "submitted": "2024-07-11T12:36:32.214163Z"
     },
     "output_type": "display_data"
    },
    {
     "data": {
      "text/plain": [
       "\u001b[0;31mOut[0:1]: \u001b[0m'nid07225'"
      ]
     },
     "metadata": {
      "after": null,
      "completed": null,
      "data": {},
      "engine_id": 0,
      "engine_uuid": "5238cb1b-676cbde04195afbf51c40b77",
      "error": null,
      "execute_input": "import socket\n\nsocket.gethostname()\n",
      "execute_result": {
       "data": {
        "text/plain": "'nid07225'"
       },
       "execution_count": 1,
       "metadata": {}
      },
      "follow": null,
      "msg_id": null,
      "outputs": [],
      "received": null,
      "started": null,
      "status": null,
      "stderr": "",
      "stdout": "",
      "submitted": "2024-07-11T12:36:32.213110Z"
     },
     "output_type": "display_data"
    }
   ],
   "source": [
    "%%px\n",
    "import socket\n",
    "\n",
    "socket.gethostname()"
   ]
  },
  {
   "cell_type": "code",
   "execution_count": 7,
   "id": "d81d6c89-d339-45ac-aff7-88a11558ce15",
   "metadata": {},
   "outputs": [],
   "source": [
    "%%px\n",
    "from osu_bw_cupy import osu_bw"
   ]
  },
  {
   "cell_type": "code",
   "execution_count": null,
   "id": "8ebf8f80-37b1-4d74-a911-33c1a32a461d",
   "metadata": {},
   "outputs": [
    {
     "name": "stderr",
     "output_type": "stream",
     "text": [
      "[0:execute]\n",
      "\u001b[0;31m---------------------------------------------------------------------------\u001b[0m\n",
      "\u001b[0;31mCUDARuntimeError\u001b[0m                          Traceback (most recent call last)\n",
      "Cell \u001b[0;32mIn[3], line 1\u001b[0m\n",
      "\u001b[0;32m----> 1\u001b[0m \u001b[43mosu_bw\u001b[49m\u001b[43m(\u001b[49m\u001b[43m)\u001b[49m\n",
      "\n",
      "File \u001b[0;32m/scratch/snx3000/class272/SummerUniversity2024/pyhpc/mpi/osu_bw_cupy.py:32\u001b[0m, in \u001b[0;36mosu_bw\u001b[0;34m(BENCHMARH, skip, loop, window_size, skip_large, loop_large, window_size_large, large_message_size, MAX_MSG_SIZE)\u001b[0m\n",
      "\u001b[1;32m     29\u001b[0m         errmsg \u001b[38;5;241m=\u001b[39m \u001b[38;5;28;01mNone\u001b[39;00m\n",
      "\u001b[1;32m     30\u001b[0m     \u001b[38;5;28;01mraise\u001b[39;00m \u001b[38;5;167;01mSystemExit\u001b[39;00m(errmsg)\n",
      "\u001b[0;32m---> 32\u001b[0m s_buf \u001b[38;5;241m=\u001b[39m \u001b[43mcp\u001b[49m\u001b[38;5;241;43m.\u001b[39;49m\u001b[43marange\u001b[49m\u001b[43m(\u001b[49m\u001b[43mMAX_MSG_SIZE\u001b[49m\u001b[43m,\u001b[49m\u001b[43m \u001b[49m\u001b[43mdtype\u001b[49m\u001b[38;5;241;43m=\u001b[39;49m\u001b[38;5;124;43m'\u001b[39;49m\u001b[38;5;124;43mi\u001b[39;49m\u001b[38;5;124;43m'\u001b[39;49m\u001b[43m)\u001b[49m\n",
      "\u001b[1;32m     33\u001b[0m r_buf \u001b[38;5;241m=\u001b[39m cp\u001b[38;5;241m.\u001b[39mempty_like(s_buf)\n",
      "\u001b[1;32m     34\u001b[0m cp\u001b[38;5;241m.\u001b[39mcuda\u001b[38;5;241m.\u001b[39mget_current_stream()\u001b[38;5;241m.\u001b[39msynchronize()\n",
      "\n",
      "File \u001b[0;32m/apps/daint/UES/6.0.UP04/sandboxes/sarafael/hpcpy2023/lib/python3.9/site-packages/cupy/_creation/ranges.py:55\u001b[0m, in \u001b[0;36marange\u001b[0;34m(start, stop, step, dtype)\u001b[0m\n",
      "\u001b[1;32m     52\u001b[0m     \u001b[38;5;28;01melse\u001b[39;00m:\n",
      "\u001b[1;32m     53\u001b[0m         \u001b[38;5;28;01mreturn\u001b[39;00m cupy\u001b[38;5;241m.\u001b[39marray([start], dtype\u001b[38;5;241m=\u001b[39mnumpy\u001b[38;5;241m.\u001b[39mbool_)\n",
      "\u001b[0;32m---> 55\u001b[0m ret \u001b[38;5;241m=\u001b[39m \u001b[43mcupy\u001b[49m\u001b[38;5;241;43m.\u001b[39;49m\u001b[43mempty\u001b[49m\u001b[43m(\u001b[49m\u001b[43m(\u001b[49m\u001b[43msize\u001b[49m\u001b[43m,\u001b[49m\u001b[43m)\u001b[49m\u001b[43m,\u001b[49m\u001b[43m \u001b[49m\u001b[43mdtype\u001b[49m\u001b[38;5;241;43m=\u001b[39;49m\u001b[43mdtype\u001b[49m\u001b[43m)\u001b[49m\n",
      "\u001b[1;32m     56\u001b[0m typ \u001b[38;5;241m=\u001b[39m numpy\u001b[38;5;241m.\u001b[39mdtype(dtype)\u001b[38;5;241m.\u001b[39mtype\n",
      "\u001b[1;32m     57\u001b[0m _arange_ufunc(typ(start), typ(step), ret, dtype\u001b[38;5;241m=\u001b[39mdtype)\n",
      "\n",
      "File \u001b[0;32m/apps/daint/UES/6.0.UP04/sandboxes/sarafael/hpcpy2023/lib/python3.9/site-packages/cupy/_creation/basic.py:22\u001b[0m, in \u001b[0;36mempty\u001b[0;34m(shape, dtype, order)\u001b[0m\n",
      "\u001b[1;32m      7\u001b[0m \u001b[38;5;28;01mdef\u001b[39;00m \u001b[38;5;21mempty\u001b[39m(shape, dtype\u001b[38;5;241m=\u001b[39m\u001b[38;5;28mfloat\u001b[39m, order\u001b[38;5;241m=\u001b[39m\u001b[38;5;124m'\u001b[39m\u001b[38;5;124mC\u001b[39m\u001b[38;5;124m'\u001b[39m):\n",
      "\u001b[1;32m      8\u001b[0m \u001b[38;5;250m    \u001b[39m\u001b[38;5;124;03m\"\"\"Returns an array without initializing the elements.\u001b[39;00m\n",
      "\u001b[1;32m      9\u001b[0m \n",
      "\u001b[1;32m     10\u001b[0m \u001b[38;5;124;03m    Args:\u001b[39;00m\n",
      "\u001b[0;32m   (...)\u001b[0m\n",
      "\u001b[1;32m     20\u001b[0m \n",
      "\u001b[1;32m     21\u001b[0m \u001b[38;5;124;03m    \"\"\"\u001b[39;00m\n",
      "\u001b[0;32m---> 22\u001b[0m     \u001b[38;5;28;01mreturn\u001b[39;00m \u001b[43mcupy\u001b[49m\u001b[38;5;241;43m.\u001b[39;49m\u001b[43mndarray\u001b[49m\u001b[43m(\u001b[49m\u001b[43mshape\u001b[49m\u001b[43m,\u001b[49m\u001b[43m \u001b[49m\u001b[43mdtype\u001b[49m\u001b[43m,\u001b[49m\u001b[43m \u001b[49m\u001b[43morder\u001b[49m\u001b[38;5;241;43m=\u001b[39;49m\u001b[43morder\u001b[49m\u001b[43m)\u001b[49m\n",
      "\n",
      "File \u001b[0;32mcupy/_core/core.pyx:171\u001b[0m, in \u001b[0;36mcupy._core.core.ndarray.__init__\u001b[0;34m()\u001b[0m\n",
      "\n",
      "File \u001b[0;32mcupy/cuda/memory.pyx:698\u001b[0m, in \u001b[0;36mcupy.cuda.memory.alloc\u001b[0;34m()\u001b[0m\n",
      "\n",
      "File \u001b[0;32mcupy/cuda/memory.pyx:1375\u001b[0m, in \u001b[0;36mcupy.cuda.memory.MemoryPool.malloc\u001b[0;34m()\u001b[0m\n",
      "\n",
      "File \u001b[0;32mcupy/cuda/memory.pyx:1396\u001b[0m, in \u001b[0;36mcupy.cuda.memory.MemoryPool.malloc\u001b[0;34m()\u001b[0m\n",
      "\n",
      "File \u001b[0;32mcupy/cuda/memory.pyx:1076\u001b[0m, in \u001b[0;36mcupy.cuda.memory.SingleDeviceMemoryPool.malloc\u001b[0;34m()\u001b[0m\n",
      "\n",
      "File \u001b[0;32mcupy/cuda/memory.pyx:1097\u001b[0m, in \u001b[0;36mcupy.cuda.memory.SingleDeviceMemoryPool._malloc\u001b[0;34m()\u001b[0m\n",
      "\n",
      "File \u001b[0;32mcupy/cuda/memory.pyx:1315\u001b[0m, in \u001b[0;36mcupy.cuda.memory.SingleDeviceMemoryPool._try_malloc\u001b[0;34m()\u001b[0m\n",
      "\n",
      "File \u001b[0;32mcupy/cuda/memory.pyx:1312\u001b[0m, in \u001b[0;36mcupy.cuda.memory.SingleDeviceMemoryPool._try_malloc\u001b[0;34m()\u001b[0m\n",
      "\n",
      "File \u001b[0;32mcupy/cuda/memory.pyx:1047\u001b[0m, in \u001b[0;36mcupy.cuda.memory.SingleDeviceMemoryPool._alloc\u001b[0;34m()\u001b[0m\n",
      "\n",
      "File \u001b[0;32mcupy/cuda/memory.pyx:592\u001b[0m, in \u001b[0;36mcupy.cuda.memory._malloc\u001b[0;34m()\u001b[0m\n",
      "\n",
      "File \u001b[0;32mcupy/cuda/memory.pyx:593\u001b[0m, in \u001b[0;36mcupy.cuda.memory._malloc\u001b[0;34m()\u001b[0m\n",
      "\n",
      "File \u001b[0;32mcupy/cuda/memory.pyx:102\u001b[0m, in \u001b[0;36mcupy.cuda.memory.Memory.__init__\u001b[0;34m()\u001b[0m\n",
      "\n",
      "File \u001b[0;32mcupy_backends/cuda/api/runtime.pyx:465\u001b[0m, in \u001b[0;36mcupy_backends.cuda.api.runtime.malloc\u001b[0;34m()\u001b[0m\n",
      "\n",
      "File \u001b[0;32mcupy_backends/cuda/api/runtime.pyx:142\u001b[0m, in \u001b[0;36mcupy_backends.cuda.api.runtime.check_status\u001b[0;34m()\u001b[0m\n",
      "\n",
      "\u001b[0;31mCUDARuntimeError\u001b[0m: cudaErrorDevicesUnavailable: all CUDA-capable devices are busy or unavailable\n"
     ]
    },
    {
     "data": {
      "text/plain": [
       "[stdout:1] # MPI G2G Bandwidth Test\n",
       "# Size [B]    Bandwidth [MB/s]\n"
      ]
     },
     "metadata": {},
     "output_type": "display_data"
    },
    {
     "name": "stderr",
     "output_type": "stream",
     "text": [
      "Received Keyboard Interrupt. Sending signal SIGINT to engines...\n"
     ]
    }
   ],
   "source": [
    "%%px\n",
    "osu_bw()"
   ]
  },
  {
   "cell_type": "code",
   "execution_count": null,
   "id": "1cb656f2-2367-405a-9173-d79fe53281a0",
   "metadata": {},
   "outputs": [],
   "source": [
    "%ipcluster stop"
   ]
  },
  {
   "cell_type": "code",
   "execution_count": null,
   "id": "71d53620-612f-40b4-867f-5c4974bc381c",
   "metadata": {},
   "outputs": [],
   "source": []
  }
 ],
 "metadata": {
  "kernelspec": {
   "display_name": "su2024",
   "language": "python",
   "name": "su2024"
  },
  "language_info": {
   "codemirror_mode": {
    "name": "ipython",
    "version": 3
   },
   "file_extension": ".py",
   "mimetype": "text/x-python",
   "name": "python",
   "nbconvert_exporter": "python",
   "pygments_lexer": "ipython3",
   "version": "3.9.4"
  }
 },
 "nbformat": 4,
 "nbformat_minor": 5
}
