{
 "cells": [
  {
   "cell_type": "code",
   "execution_count": 1,
   "metadata": {},
   "outputs": [],
   "source": [
    "import time\n",
    "import threading"
   ]
  },
  {
   "cell_type": "code",
   "execution_count": 2,
   "metadata": {},
   "outputs": [],
   "source": [
    "def print_word_by_word(string, color=''):\n",
    "    for word in string.split(' '):\n",
    "        time.sleep(1e-5)\n",
    "        print(f' {color}{word}', end='')"
   ]
  },
  {
   "cell_type": "code",
   "execution_count": 3,
   "metadata": {},
   "outputs": [],
   "source": [
    "lock = threading.Lock()"
   ]
  },
  {
   "cell_type": "code",
   "execution_count": 6,
   "metadata": {},
   "outputs": [],
   "source": [
    "def function_1():\n",
    "    for i in range(10):\n",
    "        lock.acquire ()\n",
    "        print_word_by_word('Hello from the first function\\n', color='\\033[91m')\n",
    "        lock.release ()\n",
    "        time.sleep(1e-5)\n",
    "\n",
    "\n",
    "def function_2():\n",
    "    for i in range(10):\n",
    "        lock.acquire ()\n",
    "        print_word_by_word('Hello from the second function\\n', color='\\033[92m')\n",
    "        lock.release ()\n",
    "        time.sleep(1e-5)"
   ]
  },
  {
   "cell_type": "code",
   "execution_count": 7,
   "metadata": {},
   "outputs": [
    {
     "name": "stdout",
     "output_type": "stream",
     "text": [
      " \u001b[91mHello \u001b[91mfrom \u001b[91mthe \u001b[91mfirst \u001b[91mfunction\n",
      " \u001b[92mHello \u001b[92mfrom \u001b[92mthe \u001b[92msecond \u001b[92mfunction\n",
      " \u001b[91mHello \u001b[91mfrom \u001b[91mthe \u001b[91mfirst \u001b[91mfunction\n",
      " \u001b[92mHello \u001b[92mfrom \u001b[92mthe \u001b[92msecond \u001b[92mfunction\n",
      " \u001b[91mHello \u001b[91mfrom \u001b[91mthe \u001b[91mfirst \u001b[91mfunction\n",
      " \u001b[92mHello \u001b[92mfrom \u001b[92mthe \u001b[92msecond \u001b[92mfunction\n",
      " \u001b[91mHello \u001b[91mfrom \u001b[91mthe \u001b[91mfirst \u001b[91mfunction\n",
      " \u001b[92mHello \u001b[92mfrom \u001b[92mthe \u001b[92msecond \u001b[92mfunction\n",
      " \u001b[91mHello \u001b[91mfrom \u001b[91mthe \u001b[91mfirst \u001b[91mfunction\n",
      " \u001b[92mHello \u001b[92mfrom \u001b[92mthe \u001b[92msecond \u001b[92mfunction\n",
      " \u001b[91mHello \u001b[91mfrom \u001b[91mthe \u001b[91mfirst \u001b[91mfunction\n",
      " \u001b[92mHello \u001b[92mfrom \u001b[92mthe \u001b[92msecond \u001b[92mfunction\n",
      " \u001b[91mHello \u001b[91mfrom \u001b[91mthe \u001b[91mfirst \u001b[91mfunction\n",
      " \u001b[92mHello \u001b[92mfrom \u001b[92mthe \u001b[92msecond \u001b[92mfunction\n",
      " \u001b[91mHello \u001b[91mfrom \u001b[91mthe \u001b[91mfirst \u001b[91mfunction\n",
      " \u001b[92mHello \u001b[92mfrom \u001b[92mthe \u001b[92msecond \u001b[92mfunction\n",
      " \u001b[91mHello \u001b[91mfrom \u001b[91mthe \u001b[91mfirst \u001b[91mfunction\n",
      " \u001b[92mHello \u001b[92mfrom \u001b[92mthe \u001b[92msecond \u001b[92mfunction\n",
      " \u001b[91mHello \u001b[91mfrom \u001b[91mthe \u001b[91mfirst \u001b[91mfunction\n",
      " \u001b[92mHello \u001b[92mfrom \u001b[92mthe \u001b[92msecond \u001b[92mfunction\n"
     ]
    }
   ],
   "source": [
    "thread_1 = threading.Thread(target=function_1)\n",
    "thread_2 = threading.Thread(target=function_2)\n",
    "\n",
    "thread_1.start()\n",
    "thread_2.start()\n",
    "\n",
    "thread_1.join()\n",
    "thread_2.join()"
   ]
  },
  {
   "cell_type": "code",
   "execution_count": null,
   "metadata": {},
   "outputs": [],
   "source": []
  }
 ],
 "metadata": {
  "kernelspec": {
   "display_name": "su2024",
   "language": "python",
   "name": "su2024"
  },
  "language_info": {
   "codemirror_mode": {
    "name": "ipython",
    "version": 3
   },
   "file_extension": ".py",
   "mimetype": "text/x-python",
   "name": "python",
   "nbconvert_exporter": "python",
   "pygments_lexer": "ipython3",
   "version": "3.9.4"
  }
 },
 "nbformat": 4,
 "nbformat_minor": 4
}
